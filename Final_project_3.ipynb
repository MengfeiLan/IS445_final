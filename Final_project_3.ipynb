{
 "cells": [
  {
   "cell_type": "markdown",
   "id": "stunning-utilization",
   "metadata": {},
   "source": [
    "# Visualization of the U.S. Race and Ethnicity Distribution over the Years (2016 - 2060)\n"
   ]
  },
  {
   "cell_type": "markdown",
   "id": "committed-conservation",
   "metadata": {},
   "source": [
    "#### Mengfei Lan\n",
    "#### IS445, Spring 2021"
   ]
  },
  {
   "cell_type": "code",
   "execution_count": 41,
   "id": "magnetic-lancaster",
   "metadata": {},
   "outputs": [],
   "source": [
    "import pandas as pd\n",
    "import numpy as np\n",
    "\n",
    "import bqplot\n",
    "import numpy as np\n",
    "import ipywidgets"
   ]
  },
  {
   "cell_type": "markdown",
   "id": "objective-calvin",
   "metadata": {},
   "source": [
    "#### The dataset I am using is from United States Census Bureau ( https://www2.census.gov/programs-surveys/popproj/datasets/2017/2017-popproj/np2017_d1_mid.csv). The dataset is named as \"The U.S National Dataset: Population by Sex, Race, and Hispanic Origin for the United States: 2016 to 2060\". From this dataset, we can get to know the race, sex and hispanic origin population distribution in the United States from 2016 to 2060. The data after 2017 is predicted. We can also create the population pyramid based on the dataset. \n",
    "\n",
    "#### The data contained in the dataset is clean and standard. There is no need to do further data cleaning. \n"
   ]
  },
  {
   "cell_type": "code",
   "execution_count": 92,
   "id": "unavailable-serial",
   "metadata": {},
   "outputs": [],
   "source": [
    "dataset = pd.read_csv(\"https://www2.census.gov/programs-surveys/popproj/datasets/2017/2017-popproj/np2017_d1_mid.csv\")"
   ]
  },
  {
   "cell_type": "markdown",
   "id": "bearing-console",
   "metadata": {},
   "source": [
    "#### Let's have an overview of the dataset. "
   ]
  },
  {
   "cell_type": "code",
   "execution_count": 93,
   "id": "pursuant-delivery",
   "metadata": {},
   "outputs": [
    {
     "data": {
      "text/html": [
       "<div>\n",
       "<style scoped>\n",
       "    .dataframe tbody tr th:only-of-type {\n",
       "        vertical-align: middle;\n",
       "    }\n",
       "\n",
       "    .dataframe tbody tr th {\n",
       "        vertical-align: top;\n",
       "    }\n",
       "\n",
       "    .dataframe thead th {\n",
       "        text-align: right;\n",
       "    }\n",
       "</style>\n",
       "<table border=\"1\" class=\"dataframe\">\n",
       "  <thead>\n",
       "    <tr style=\"text-align: right;\">\n",
       "      <th></th>\n",
       "      <th>SEX</th>\n",
       "      <th>ORIGIN</th>\n",
       "      <th>RACE</th>\n",
       "      <th>YEAR</th>\n",
       "      <th>TOTAL_POP</th>\n",
       "      <th>POP_0</th>\n",
       "      <th>POP_1</th>\n",
       "      <th>POP_2</th>\n",
       "      <th>POP_3</th>\n",
       "      <th>POP_4</th>\n",
       "      <th>...</th>\n",
       "      <th>POP_91</th>\n",
       "      <th>POP_92</th>\n",
       "      <th>POP_93</th>\n",
       "      <th>POP_94</th>\n",
       "      <th>POP_95</th>\n",
       "      <th>POP_96</th>\n",
       "      <th>POP_97</th>\n",
       "      <th>POP_98</th>\n",
       "      <th>POP_99</th>\n",
       "      <th>POP_100</th>\n",
       "    </tr>\n",
       "  </thead>\n",
       "  <tbody>\n",
       "    <tr>\n",
       "      <th>0</th>\n",
       "      <td>0</td>\n",
       "      <td>0</td>\n",
       "      <td>0</td>\n",
       "      <td>2016</td>\n",
       "      <td>323127513</td>\n",
       "      <td>3970145</td>\n",
       "      <td>3995008</td>\n",
       "      <td>3992154</td>\n",
       "      <td>3982074</td>\n",
       "      <td>3987656</td>\n",
       "      <td>...</td>\n",
       "      <td>449986</td>\n",
       "      <td>372625</td>\n",
       "      <td>300000</td>\n",
       "      <td>239313</td>\n",
       "      <td>186408</td>\n",
       "      <td>135797</td>\n",
       "      <td>94311</td>\n",
       "      <td>68972</td>\n",
       "      <td>44895</td>\n",
       "      <td>81896</td>\n",
       "    </tr>\n",
       "    <tr>\n",
       "      <th>1</th>\n",
       "      <td>0</td>\n",
       "      <td>0</td>\n",
       "      <td>0</td>\n",
       "      <td>2017</td>\n",
       "      <td>325511184</td>\n",
       "      <td>4054035</td>\n",
       "      <td>3982964</td>\n",
       "      <td>4008116</td>\n",
       "      <td>4003478</td>\n",
       "      <td>3992207</td>\n",
       "      <td>...</td>\n",
       "      <td>449945</td>\n",
       "      <td>382669</td>\n",
       "      <td>311525</td>\n",
       "      <td>246219</td>\n",
       "      <td>192531</td>\n",
       "      <td>146801</td>\n",
       "      <td>104540</td>\n",
       "      <td>70840</td>\n",
       "      <td>50486</td>\n",
       "      <td>83574</td>\n",
       "    </tr>\n",
       "    <tr>\n",
       "      <th>2</th>\n",
       "      <td>0</td>\n",
       "      <td>0</td>\n",
       "      <td>0</td>\n",
       "      <td>2018</td>\n",
       "      <td>327891911</td>\n",
       "      <td>4075563</td>\n",
       "      <td>4068172</td>\n",
       "      <td>3995888</td>\n",
       "      <td>4019345</td>\n",
       "      <td>4013649</td>\n",
       "      <td>...</td>\n",
       "      <td>462335</td>\n",
       "      <td>382993</td>\n",
       "      <td>320285</td>\n",
       "      <td>256011</td>\n",
       "      <td>198354</td>\n",
       "      <td>151848</td>\n",
       "      <td>113165</td>\n",
       "      <td>78659</td>\n",
       "      <td>51938</td>\n",
       "      <td>86221</td>\n",
       "    </tr>\n",
       "    <tr>\n",
       "      <th>3</th>\n",
       "      <td>0</td>\n",
       "      <td>0</td>\n",
       "      <td>0</td>\n",
       "      <td>2019</td>\n",
       "      <td>330268840</td>\n",
       "      <td>4095614</td>\n",
       "      <td>4089881</td>\n",
       "      <td>4082231</td>\n",
       "      <td>4006967</td>\n",
       "      <td>4029427</td>\n",
       "      <td>...</td>\n",
       "      <td>467488</td>\n",
       "      <td>393919</td>\n",
       "      <td>320884</td>\n",
       "      <td>263533</td>\n",
       "      <td>206526</td>\n",
       "      <td>156654</td>\n",
       "      <td>117240</td>\n",
       "      <td>85265</td>\n",
       "      <td>57778</td>\n",
       "      <td>87671</td>\n",
       "    </tr>\n",
       "    <tr>\n",
       "      <th>4</th>\n",
       "      <td>0</td>\n",
       "      <td>0</td>\n",
       "      <td>0</td>\n",
       "      <td>2020</td>\n",
       "      <td>332639102</td>\n",
       "      <td>4113164</td>\n",
       "      <td>4110117</td>\n",
       "      <td>4104058</td>\n",
       "      <td>4094281</td>\n",
       "      <td>4016919</td>\n",
       "      <td>...</td>\n",
       "      <td>464985</td>\n",
       "      <td>398712</td>\n",
       "      <td>330389</td>\n",
       "      <td>264318</td>\n",
       "      <td>212880</td>\n",
       "      <td>163348</td>\n",
       "      <td>121128</td>\n",
       "      <td>88491</td>\n",
       "      <td>62724</td>\n",
       "      <td>92064</td>\n",
       "    </tr>\n",
       "    <tr>\n",
       "      <th>...</th>\n",
       "      <td>...</td>\n",
       "      <td>...</td>\n",
       "      <td>...</td>\n",
       "      <td>...</td>\n",
       "      <td>...</td>\n",
       "      <td>...</td>\n",
       "      <td>...</td>\n",
       "      <td>...</td>\n",
       "      <td>...</td>\n",
       "      <td>...</td>\n",
       "      <td>...</td>\n",
       "      <td>...</td>\n",
       "      <td>...</td>\n",
       "      <td>...</td>\n",
       "      <td>...</td>\n",
       "      <td>...</td>\n",
       "      <td>...</td>\n",
       "      <td>...</td>\n",
       "      <td>...</td>\n",
       "      <td>...</td>\n",
       "      <td>...</td>\n",
       "    </tr>\n",
       "    <tr>\n",
       "      <th>4855</th>\n",
       "      <td>2</td>\n",
       "      <td>2</td>\n",
       "      <td>11</td>\n",
       "      <td>2056</td>\n",
       "      <td>350520</td>\n",
       "      <td>6293</td>\n",
       "      <td>6217</td>\n",
       "      <td>6146</td>\n",
       "      <td>6086</td>\n",
       "      <td>6022</td>\n",
       "      <td>...</td>\n",
       "      <td>651</td>\n",
       "      <td>571</td>\n",
       "      <td>477</td>\n",
       "      <td>410</td>\n",
       "      <td>318</td>\n",
       "      <td>273</td>\n",
       "      <td>200</td>\n",
       "      <td>159</td>\n",
       "      <td>118</td>\n",
       "      <td>214</td>\n",
       "    </tr>\n",
       "    <tr>\n",
       "      <th>4856</th>\n",
       "      <td>2</td>\n",
       "      <td>2</td>\n",
       "      <td>11</td>\n",
       "      <td>2057</td>\n",
       "      <td>355471</td>\n",
       "      <td>6378</td>\n",
       "      <td>6294</td>\n",
       "      <td>6219</td>\n",
       "      <td>6151</td>\n",
       "      <td>6091</td>\n",
       "      <td>...</td>\n",
       "      <td>638</td>\n",
       "      <td>586</td>\n",
       "      <td>508</td>\n",
       "      <td>413</td>\n",
       "      <td>355</td>\n",
       "      <td>271</td>\n",
       "      <td>228</td>\n",
       "      <td>166</td>\n",
       "      <td>126</td>\n",
       "      <td>227</td>\n",
       "    </tr>\n",
       "    <tr>\n",
       "      <th>4857</th>\n",
       "      <td>2</td>\n",
       "      <td>2</td>\n",
       "      <td>11</td>\n",
       "      <td>2058</td>\n",
       "      <td>360483</td>\n",
       "      <td>6467</td>\n",
       "      <td>6377</td>\n",
       "      <td>6296</td>\n",
       "      <td>6224</td>\n",
       "      <td>6156</td>\n",
       "      <td>...</td>\n",
       "      <td>667</td>\n",
       "      <td>572</td>\n",
       "      <td>521</td>\n",
       "      <td>442</td>\n",
       "      <td>357</td>\n",
       "      <td>299</td>\n",
       "      <td>226</td>\n",
       "      <td>187</td>\n",
       "      <td>133</td>\n",
       "      <td>247</td>\n",
       "    </tr>\n",
       "    <tr>\n",
       "      <th>4858</th>\n",
       "      <td>2</td>\n",
       "      <td>2</td>\n",
       "      <td>11</td>\n",
       "      <td>2059</td>\n",
       "      <td>365543</td>\n",
       "      <td>6566</td>\n",
       "      <td>6467</td>\n",
       "      <td>6379</td>\n",
       "      <td>6301</td>\n",
       "      <td>6229</td>\n",
       "      <td>...</td>\n",
       "      <td>698</td>\n",
       "      <td>598</td>\n",
       "      <td>511</td>\n",
       "      <td>453</td>\n",
       "      <td>381</td>\n",
       "      <td>302</td>\n",
       "      <td>249</td>\n",
       "      <td>187</td>\n",
       "      <td>153</td>\n",
       "      <td>269</td>\n",
       "    </tr>\n",
       "    <tr>\n",
       "      <th>4859</th>\n",
       "      <td>2</td>\n",
       "      <td>2</td>\n",
       "      <td>11</td>\n",
       "      <td>2060</td>\n",
       "      <td>370662</td>\n",
       "      <td>6673</td>\n",
       "      <td>6566</td>\n",
       "      <td>6469</td>\n",
       "      <td>6384</td>\n",
       "      <td>6306</td>\n",
       "      <td>...</td>\n",
       "      <td>723</td>\n",
       "      <td>625</td>\n",
       "      <td>534</td>\n",
       "      <td>447</td>\n",
       "      <td>393</td>\n",
       "      <td>323</td>\n",
       "      <td>253</td>\n",
       "      <td>202</td>\n",
       "      <td>153</td>\n",
       "      <td>290</td>\n",
       "    </tr>\n",
       "  </tbody>\n",
       "</table>\n",
       "<p>4860 rows × 106 columns</p>\n",
       "</div>"
      ],
      "text/plain": [
       "      SEX  ORIGIN  RACE  YEAR  TOTAL_POP    POP_0    POP_1    POP_2    POP_3  \\\n",
       "0       0       0     0  2016  323127513  3970145  3995008  3992154  3982074   \n",
       "1       0       0     0  2017  325511184  4054035  3982964  4008116  4003478   \n",
       "2       0       0     0  2018  327891911  4075563  4068172  3995888  4019345   \n",
       "3       0       0     0  2019  330268840  4095614  4089881  4082231  4006967   \n",
       "4       0       0     0  2020  332639102  4113164  4110117  4104058  4094281   \n",
       "...   ...     ...   ...   ...        ...      ...      ...      ...      ...   \n",
       "4855    2       2    11  2056     350520     6293     6217     6146     6086   \n",
       "4856    2       2    11  2057     355471     6378     6294     6219     6151   \n",
       "4857    2       2    11  2058     360483     6467     6377     6296     6224   \n",
       "4858    2       2    11  2059     365543     6566     6467     6379     6301   \n",
       "4859    2       2    11  2060     370662     6673     6566     6469     6384   \n",
       "\n",
       "        POP_4  ...  POP_91  POP_92  POP_93  POP_94  POP_95  POP_96  POP_97  \\\n",
       "0     3987656  ...  449986  372625  300000  239313  186408  135797   94311   \n",
       "1     3992207  ...  449945  382669  311525  246219  192531  146801  104540   \n",
       "2     4013649  ...  462335  382993  320285  256011  198354  151848  113165   \n",
       "3     4029427  ...  467488  393919  320884  263533  206526  156654  117240   \n",
       "4     4016919  ...  464985  398712  330389  264318  212880  163348  121128   \n",
       "...       ...  ...     ...     ...     ...     ...     ...     ...     ...   \n",
       "4855     6022  ...     651     571     477     410     318     273     200   \n",
       "4856     6091  ...     638     586     508     413     355     271     228   \n",
       "4857     6156  ...     667     572     521     442     357     299     226   \n",
       "4858     6229  ...     698     598     511     453     381     302     249   \n",
       "4859     6306  ...     723     625     534     447     393     323     253   \n",
       "\n",
       "      POP_98  POP_99  POP_100  \n",
       "0      68972   44895    81896  \n",
       "1      70840   50486    83574  \n",
       "2      78659   51938    86221  \n",
       "3      85265   57778    87671  \n",
       "4      88491   62724    92064  \n",
       "...      ...     ...      ...  \n",
       "4855     159     118      214  \n",
       "4856     166     126      227  \n",
       "4857     187     133      247  \n",
       "4858     187     153      269  \n",
       "4859     202     153      290  \n",
       "\n",
       "[4860 rows x 106 columns]"
      ]
     },
     "execution_count": 93,
     "metadata": {},
     "output_type": "execute_result"
    }
   ],
   "source": [
    "dataset"
   ]
  },
  {
   "cell_type": "markdown",
   "id": "capital-darkness",
   "metadata": {},
   "source": [
    "#### ORIGIN : 0 = Total   1 = Not Hispanic   2 = Hispanic\n",
    "#### YEAR: Year of projection (July 1, 2016 to July 1, 2060)\n",
    "#### TOTAL_POP: Population total (all ages combined) in each year\n",
    "#### (POP_0, POP_1, ...POP_99, POP_100): Population age x as of July 1 (columns for ages 0, 1, 2, ...98, 99, 100 or more years old)\n",
    "#### RACE:\n",
    "####       0 = All races (codes 1 through 6)\n",
    "####       1 = White alone\n",
    "####       2 = Black alone\n",
    "####       3 = AIAN alone\n",
    "####       4 = Asian alone\n",
    "####       5 = NHPI alone\n",
    "####       6 = Two or More Races\n",
    "####       7 = White alone or in combination\n",
    "####       8 = Black alone or in combination\n",
    "####       9 = AIAN alone or in combination\n",
    "####       10 = Asian alone or in combination\n",
    "####       11 = NHPI alone or in combination\n",
    "#### SEX : 0 = Both sexes  1 = Male  2 = Female\n",
    "#### NOTE: Hispanic origin is considered an ethnicity, not a race. Hispanics may be of any race.\n",
    "#### All data are integers. \n"
   ]
  },
  {
   "cell_type": "markdown",
   "id": "banner-democrat",
   "metadata": {},
   "source": [
    "### Data Visualization 1: Projected Population by race over the years"
   ]
  },
  {
   "cell_type": "markdown",
   "id": "racial-florida",
   "metadata": {},
   "source": [
    "#### The following interactive chart shows the population distribution of races over the years. A slider below helps to choose the year from 2016 to 2060, and a drop down list enables to select the origin ( hispanic or not) . With this interactive chart, we can easily get to know the race and origin distribution in different years. \n"
   ]
  },
  {
   "cell_type": "code",
   "execution_count": 94,
   "id": "international-hungarian",
   "metadata": {},
   "outputs": [
    {
     "data": {
      "application/vnd.jupyter.widget-view+json": {
       "model_id": "ffa64da439324c3799cfaffa7a0f594a",
       "version_major": 2,
       "version_minor": 0
      },
      "text/plain": [
       "interactive(children=(IntSlider(value=2016, description='x', max=2060, min=2016), Dropdown(description='origin…"
      ]
     },
     "metadata": {},
     "output_type": "display_data"
    }
   ],
   "source": [
    "@ipywidgets.interact(x=ipywidgets.IntSlider(min=2016, max=2060, step=1, value=2016), origin = [\"Both Hispanic Origins\", \"Non-Hispanic\", \"Hispanic\"])\n",
    "def position(x, origin):\n",
    "    if origin == \"Both Hispanic Origins\":\n",
    "        origin_data = 0\n",
    "    elif origin == \"Non-Hispanic\":\n",
    "        origin_data = 1\n",
    "    elif origin == \"Hispanic\":\n",
    "        origin_data = 2\n",
    "    new = dataset[(dataset[\"YEAR\"] == x) & (dataset[\"ORIGIN\"] == origin_data)]\n",
    "    new = new.groupby(['RACE'], as_index=False)['TOTAL_POP'].sum()\n",
    "    new.plot.bar(x = \"RACE\", y = \"TOTAL_POP\", figsize=(15,5), stacked=True)"
   ]
  },
  {
   "cell_type": "markdown",
   "id": "palestinian-fountain",
   "metadata": {},
   "source": [
    "### Data Visualization 2: Change of Race-Sex Population over the years "
   ]
  },
  {
   "cell_type": "markdown",
   "id": "unavailable-nelson",
   "metadata": {},
   "source": [
    "#### The following chart is a heatmap showing the race-sex population trending over the years.  \n",
    "\n"
   ]
  },
  {
   "cell_type": "code",
   "execution_count": 95,
   "id": "pacific-packing",
   "metadata": {},
   "outputs": [],
   "source": [
    "data = pd.pivot_table(dataset, values='TOTAL_POP', index=['SEX'],columns=['RACE'], aggfunc=np.sum)\n"
   ]
  },
  {
   "cell_type": "code",
   "execution_count": 96,
   "id": "typical-violation",
   "metadata": {},
   "outputs": [],
   "source": [
    "mySelectedLabel = ipywidgets.Label()"
   ]
  },
  {
   "cell_type": "code",
   "execution_count": 97,
   "id": "german-partnership",
   "metadata": {},
   "outputs": [],
   "source": [
    "linedata = dataset.groupby(\"YEAR\")[\"TOTAL_POP\"].sum()\n",
    "xl = linedata.index  # Year Acquired\n",
    "yl = linedata.values # Total Square Footage acquired that year\n",
    "x_scl = bqplot.LinearScale()\n",
    "y_scl = bqplot.LinearScale()\n",
    "\n",
    "\n",
    "x_axl = bqplot.Axis(scale = x_scl, \n",
    "                    label = 'Year')\n",
    "y_axl = bqplot.Axis(scale = y_scl, \n",
    "                    orientation = 'vertical', \n",
    "                    label='Total Population')\n",
    "\n",
    "lines = bqplot.Lines(x = xl, y = yl, scales = {'x': x_scl, 'y': y_scl})\n",
    "\n",
    "figl = bqplot.Figure(marks = [lines], axes = [x_axl, y_axl])"
   ]
  },
  {
   "cell_type": "code",
   "execution_count": 98,
   "id": "dated-brown",
   "metadata": {},
   "outputs": [],
   "source": [
    "def on_selected(change):\n",
    "    if len(change['owner'].selected) == 1:\n",
    "        grid = change['owner'].selected[0]\n",
    "        colname = data.columns[grid[1]]\n",
    "        mySelectedLabel.value = 'Data Value = ' + str(grid) # set our label\n",
    "        sex = grid[0]\n",
    "        new_df = dataset.loc[(dataset[\"RACE\"] == int(colname)) & (dataset[\"SEX\"] == int(sex)) ].groupby(\"YEAR\")[\"TOTAL_POP\"].sum().reset_index()\n",
    "        lines.x = new_df['YEAR']\n",
    "        lines.y = new_df['TOTAL_POP']"
   ]
  },
  {
   "cell_type": "code",
   "execution_count": 99,
   "id": "tired-rocket",
   "metadata": {},
   "outputs": [],
   "source": [
    "col_sc = bqplot.ColorScale(scheme = \"Reds\")\n",
    "x_sc = bqplot.OrdinalScale()\n",
    "y_sc = bqplot.OrdinalScale()\n",
    "\n",
    "c_ax = bqplot.ColorAxis(scale = col_sc, \n",
    "                        orientation = 'vertical', \n",
    "                        side = 'right')\n",
    "x_ax = bqplot.Axis(scale = x_sc, label = \"Race\")\n",
    "y_ax = bqplot.Axis(scale = y_sc, \n",
    "                   orientation = 'vertical',\n",
    "                   label = \"Sex\")\n",
    "\n",
    "heat_map = bqplot.GridHeatMap(color = data,\n",
    "                              scales = {'color': col_sc,\n",
    "                                        'row': y_sc,\n",
    "                                        'column': x_sc},\n",
    "                              interactions = {'click': 'select'}, # make interactive on click of each box\n",
    "                              anchor_style = {'fill':'blue'}, # to make our selection blue\n",
    "                              selected_style = {'opacity': 1.0}, # make 100% opaque if box is selected\n",
    "                              unselected_style = {'opacity': 0.8}) # make a little see-through if not\n",
    "\n",
    "heat_map.observe(on_selected, 'selected')\n",
    "\n",
    "x_scl = bqplot.LinearScale()\n",
    "y_scl = bqplot.LinearScale()\n",
    "\n",
    "x_axl = bqplot.Axis(scale = x_scl, \n",
    "                    label = 'Year')\n",
    "y_axl = bqplot.Axis(scale = y_scl, \n",
    "                    orientation = 'vertical', \n",
    "                    label='Total Population')\n",
    "\n",
    "\n",
    "fig = bqplot.Figure(marks = [heat_map], \n",
    "                    axes = [c_ax, y_ax, x_ax])\n",
    "lines = bqplot.Lines(x = lines.x, y = lines.y, scales = {'x': x_scl, 'y': y_scl})\n",
    "fig_dur = bqplot.Figure(marks = [lines], axes = [x_axl, y_axl])\n",
    "fig.layout.min_width = '500px' # feel free to change for your screen\n",
    "fig_dur.layout.min_width = '500px'\n",
    "\n",
    "figures = ipywidgets.HBox([fig, fig_dur])"
   ]
  },
  {
   "cell_type": "code",
   "execution_count": 100,
   "id": "focused-regulation",
   "metadata": {},
   "outputs": [
    {
     "data": {
      "application/vnd.jupyter.widget-view+json": {
       "model_id": "73e8650346534f87be9efd2e7625f995",
       "version_major": 2,
       "version_minor": 0
      },
      "text/plain": [
       "HBox(children=(Figure(axes=[ColorAxis(orientation='vertical', scale=ColorScale(scheme='Reds'), side='right'), …"
      ]
     },
     "metadata": {},
     "output_type": "display_data"
    }
   ],
   "source": [
    "figures"
   ]
  },
  {
   "cell_type": "markdown",
   "id": "better-samoa",
   "metadata": {},
   "source": [
    "#### \"Race\" is set as the x-aixs for the heat map. \"Sex\" is set as the y-axis for the heat map. By pressing a block in the left heat map, a line chart which shows the population trend for the next fourty years of a specific race-sex is presented on the right side. From the trend line, we can see that the population of all race-sex matches will continue growing for the next several years. The growth rate of some race-sex match population will be slower in 2030s, such as race 1 (white alone) sex 1 (male). Some other race-sex matches, such as race 6 (two or more races) sex 1 (male), will have a faster growth rate in the next few years. "
   ]
  },
  {
   "cell_type": "markdown",
   "id": "heavy-refund",
   "metadata": {},
   "source": [
    "### Data Visualization 3: Population Pyramid by Race and Origin over the Years"
   ]
  },
  {
   "cell_type": "markdown",
   "id": "thick-robinson",
   "metadata": {},
   "source": [
    "#### The following map is a interactive population pyramid. Users can choose race, year and origin according to their needs. The package, plotly, is used to create population pyramids. "
   ]
  },
  {
   "cell_type": "code",
   "execution_count": 101,
   "id": "fresh-danger",
   "metadata": {},
   "outputs": [
    {
     "name": "stdout",
     "output_type": "stream",
     "text": [
      "Collecting package metadata (current_repodata.json): done\n",
      "Solving environment: done\n",
      "\n",
      "\n",
      "==> WARNING: A newer version of conda exists. <==\n",
      "  current version: 4.9.0\n",
      "  latest version: 4.10.1\n",
      "\n",
      "Please update conda by running\n",
      "\n",
      "    $ conda update -n base -c defaults conda\n",
      "\n",
      "\n",
      "\n",
      "# All requested packages already installed.\n",
      "\n"
     ]
    }
   ],
   "source": [
    "import sys\n",
    "!conda install --yes --prefix {sys.prefix} plotly"
   ]
  },
  {
   "cell_type": "code",
   "execution_count": 102,
   "id": "upper-balloon",
   "metadata": {},
   "outputs": [],
   "source": [
    "import plotly.graph_objects as gp"
   ]
  },
  {
   "cell_type": "code",
   "execution_count": 103,
   "id": "dutch-success",
   "metadata": {},
   "outputs": [
    {
     "data": {
      "application/vnd.jupyter.widget-view+json": {
       "model_id": "e80162b99ccd408c94bb6b1a5018456d",
       "version_major": 2,
       "version_minor": 0
      },
      "text/plain": [
       "interactive(children=(IntSlider(value=0, description='race', max=11), IntSlider(value=2016, description='year'…"
      ]
     },
     "metadata": {},
     "output_type": "display_data"
    }
   ],
   "source": [
    "@ipywidgets.interact(race=ipywidgets.IntSlider(min=0, max=11, step=1), year = ipywidgets.IntSlider(min=2016, max=2060, step=1, value=2016), origin = [\"Both Hispanic Origins\", \"Non-Hispanic\", \"Hispanic\"])\n",
    "def population_pyramid(race, year, origin):\n",
    "    if origin == \"Both Hispanic Origins\":\n",
    "        origin_data = 0\n",
    "    elif origin == \"Non-Hispanic\":\n",
    "        origin_data = 1\n",
    "    elif origin == \"Hispanic\":\n",
    "        origin_data = 2\n",
    "    \n",
    "    new_m = dataset[(dataset[\"RACE\"] == race) & (dataset[\"YEAR\"] == year) & (dataset[\"SEX\"] == 1) &(dataset[\"ORIGIN\"] == origin_data)]\n",
    "    new_m = new_m.drop(['SEX', 'ORIGIN', 'RACE', 'YEAR', 'TOTAL_POP'], axis=1)\n",
    "    new_f = dataset[(dataset[\"RACE\"] == race) & (dataset[\"YEAR\"] == year) & (dataset[\"SEX\"] == 2) &(dataset[\"ORIGIN\"] == origin_data)]\n",
    "    new_f = new_f.drop(['SEX', 'ORIGIN', 'RACE', 'YEAR', 'TOTAL_POP'], axis=1)\n",
    "    new_f = new_f * -1\n",
    "    new_m = new_m.T\n",
    "    new_m = new_m.iloc[:, 0]\n",
    "    new_f = new_f.T\n",
    "    new_f = new_f.iloc[:, 0]\n",
    "    y_age = new_m.index.tolist()\n",
    "    fig = gp.Figure()\n",
    "    # Adding Male data to the figure\n",
    "    fig.add_trace(gp.Bar(y= y_age, x = new_m, \n",
    "                         name = 'Male', \n",
    "                         orientation = 'h'))\n",
    "\n",
    "    # Adding Female data to the figure\n",
    "    fig.add_trace(gp.Bar(y = y_age, x = new_f,\n",
    "                         name = 'Female', orientation = 'h'))\n",
    "    fig.show()\n"
   ]
  },
  {
   "cell_type": "markdown",
   "id": "cross-stand",
   "metadata": {},
   "source": [
    "#### The population pyramid is as above. The population of ages can be seen from the pyramid ( for eample, pop_40 represents people in the age of 40) . "
   ]
  },
  {
   "cell_type": "code",
   "execution_count": null,
   "id": "central-anniversary",
   "metadata": {},
   "outputs": [],
   "source": []
  }
 ],
 "metadata": {
  "kernelspec": {
   "display_name": "Python 3",
   "language": "python",
   "name": "python3"
  },
  "language_info": {
   "codemirror_mode": {
    "name": "ipython",
    "version": 3
   },
   "file_extension": ".py",
   "mimetype": "text/x-python",
   "name": "python",
   "nbconvert_exporter": "python",
   "pygments_lexer": "ipython3",
   "version": "3.7.9"
  }
 },
 "nbformat": 4,
 "nbformat_minor": 5
}
